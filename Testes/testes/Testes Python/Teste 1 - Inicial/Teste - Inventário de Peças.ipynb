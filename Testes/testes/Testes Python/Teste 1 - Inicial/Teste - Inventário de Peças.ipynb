{
 "cells": [
  {
   "cell_type": "code",
   "execution_count": 1,
   "id": "68e0597d",
   "metadata": {},
   "outputs": [],
   "source": [
    "import pandas as pd\n",
    "pd.set_option('display.max_colwidth', None)"
   ]
  },
  {
   "cell_type": "markdown",
   "id": "821b0ecd",
   "metadata": {},
   "source": [
    "## Leitura do CSV do Virtual Age"
   ]
  },
  {
   "cell_type": "code",
   "execution_count": 2,
   "id": "a9fe796a",
   "metadata": {},
   "outputs": [],
   "source": [
    "dfVA = pd.read_csv('dados/dadosVA.csv', delimiter=\";\")"
   ]
  },
  {
   "cell_type": "markdown",
   "id": "ea5790a4",
   "metadata": {},
   "source": [
    "## Leitura do CSV Coletado"
   ]
  },
  {
   "cell_type": "code",
   "execution_count": 3,
   "id": "dae7d398",
   "metadata": {},
   "outputs": [],
   "source": [
    "dfColeta = pd.read_csv('dados/dadosColeta.csv', delimiter=\";\")"
   ]
  },
  {
   "cell_type": "markdown",
   "id": "504b5da8",
   "metadata": {},
   "source": [
    "## Vizualização dos CSVs em DataFrame"
   ]
  },
  {
   "cell_type": "code",
   "execution_count": 4,
   "id": "f5e087a3",
   "metadata": {},
   "outputs": [
    {
     "data": {
      "text/html": [
       "<div>\n",
       "<style scoped>\n",
       "    .dataframe tbody tr th:only-of-type {\n",
       "        vertical-align: middle;\n",
       "    }\n",
       "\n",
       "    .dataframe tbody tr th {\n",
       "        vertical-align: top;\n",
       "    }\n",
       "\n",
       "    .dataframe thead th {\n",
       "        text-align: right;\n",
       "    }\n",
       "</style>\n",
       "<table border=\"1\" class=\"dataframe\">\n",
       "  <thead>\n",
       "    <tr style=\"text-align: right;\">\n",
       "      <th></th>\n",
       "      <th>Peça</th>\n",
       "      <th>Local</th>\n",
       "    </tr>\n",
       "  </thead>\n",
       "  <tbody>\n",
       "    <tr>\n",
       "      <th>0</th>\n",
       "      <td>1</td>\n",
       "      <td>a</td>\n",
       "    </tr>\n",
       "    <tr>\n",
       "      <th>1</th>\n",
       "      <td>2</td>\n",
       "      <td>b</td>\n",
       "    </tr>\n",
       "    <tr>\n",
       "      <th>2</th>\n",
       "      <td>3</td>\n",
       "      <td>c</td>\n",
       "    </tr>\n",
       "    <tr>\n",
       "      <th>3</th>\n",
       "      <td>4</td>\n",
       "      <td>d</td>\n",
       "    </tr>\n",
       "    <tr>\n",
       "      <th>4</th>\n",
       "      <td>5</td>\n",
       "      <td>e</td>\n",
       "    </tr>\n",
       "    <tr>\n",
       "      <th>5</th>\n",
       "      <td>6</td>\n",
       "      <td>f</td>\n",
       "    </tr>\n",
       "    <tr>\n",
       "      <th>6</th>\n",
       "      <td>7</td>\n",
       "      <td>g</td>\n",
       "    </tr>\n",
       "    <tr>\n",
       "      <th>7</th>\n",
       "      <td>8</td>\n",
       "      <td>h</td>\n",
       "    </tr>\n",
       "    <tr>\n",
       "      <th>8</th>\n",
       "      <td>9</td>\n",
       "      <td>i</td>\n",
       "    </tr>\n",
       "    <tr>\n",
       "      <th>9</th>\n",
       "      <td>10</td>\n",
       "      <td>j</td>\n",
       "    </tr>\n",
       "    <tr>\n",
       "      <th>10</th>\n",
       "      <td>15</td>\n",
       "      <td>m</td>\n",
       "    </tr>\n",
       "    <tr>\n",
       "      <th>11</th>\n",
       "      <td>17</td>\n",
       "      <td>k</td>\n",
       "    </tr>\n",
       "  </tbody>\n",
       "</table>\n",
       "</div>"
      ],
      "text/plain": [
       "    Peça Local\n",
       "0      1     a\n",
       "1      2     b\n",
       "2      3     c\n",
       "3      4     d\n",
       "4      5     e\n",
       "5      6     f\n",
       "6      7     g\n",
       "7      8     h\n",
       "8      9     i\n",
       "9     10     j\n",
       "10    15     m\n",
       "11    17     k"
      ]
     },
     "execution_count": 4,
     "metadata": {},
     "output_type": "execute_result"
    }
   ],
   "source": [
    "dfVA"
   ]
  },
  {
   "cell_type": "code",
   "execution_count": 5,
   "id": "fb355d34",
   "metadata": {},
   "outputs": [
    {
     "data": {
      "text/html": [
       "<div>\n",
       "<style scoped>\n",
       "    .dataframe tbody tr th:only-of-type {\n",
       "        vertical-align: middle;\n",
       "    }\n",
       "\n",
       "    .dataframe tbody tr th {\n",
       "        vertical-align: top;\n",
       "    }\n",
       "\n",
       "    .dataframe thead th {\n",
       "        text-align: right;\n",
       "    }\n",
       "</style>\n",
       "<table border=\"1\" class=\"dataframe\">\n",
       "  <thead>\n",
       "    <tr style=\"text-align: right;\">\n",
       "      <th></th>\n",
       "      <th>Peça</th>\n",
       "      <th>Local</th>\n",
       "    </tr>\n",
       "  </thead>\n",
       "  <tbody>\n",
       "    <tr>\n",
       "      <th>0</th>\n",
       "      <td>10</td>\n",
       "      <td>a</td>\n",
       "    </tr>\n",
       "    <tr>\n",
       "      <th>1</th>\n",
       "      <td>4</td>\n",
       "      <td>c</td>\n",
       "    </tr>\n",
       "    <tr>\n",
       "      <th>2</th>\n",
       "      <td>2</td>\n",
       "      <td>b</td>\n",
       "    </tr>\n",
       "    <tr>\n",
       "      <th>3</th>\n",
       "      <td>5</td>\n",
       "      <td>h</td>\n",
       "    </tr>\n",
       "    <tr>\n",
       "      <th>4</th>\n",
       "      <td>6</td>\n",
       "      <td>r</td>\n",
       "    </tr>\n",
       "    <tr>\n",
       "      <th>5</th>\n",
       "      <td>3</td>\n",
       "      <td>f</td>\n",
       "    </tr>\n",
       "    <tr>\n",
       "      <th>6</th>\n",
       "      <td>1</td>\n",
       "      <td>g</td>\n",
       "    </tr>\n",
       "    <tr>\n",
       "      <th>7</th>\n",
       "      <td>9</td>\n",
       "      <td>r</td>\n",
       "    </tr>\n",
       "    <tr>\n",
       "      <th>8</th>\n",
       "      <td>11</td>\n",
       "      <td>c</td>\n",
       "    </tr>\n",
       "    <tr>\n",
       "      <th>9</th>\n",
       "      <td>7</td>\n",
       "      <td>l</td>\n",
       "    </tr>\n",
       "    <tr>\n",
       "      <th>10</th>\n",
       "      <td>8</td>\n",
       "      <td>i</td>\n",
       "    </tr>\n",
       "    <tr>\n",
       "      <th>11</th>\n",
       "      <td>12</td>\n",
       "      <td>d</td>\n",
       "    </tr>\n",
       "  </tbody>\n",
       "</table>\n",
       "</div>"
      ],
      "text/plain": [
       "    Peça Local\n",
       "0     10     a\n",
       "1      4     c\n",
       "2      2     b\n",
       "3      5     h\n",
       "4      6     r\n",
       "5      3     f\n",
       "6      1     g\n",
       "7      9     r\n",
       "8     11     c\n",
       "9      7     l\n",
       "10     8     i\n",
       "11    12     d"
      ]
     },
     "execution_count": 5,
     "metadata": {},
     "output_type": "execute_result"
    }
   ],
   "source": [
    "dfColeta"
   ]
  },
  {
   "cell_type": "markdown",
   "id": "29986ae0",
   "metadata": {},
   "source": [
    "## Função de Transformação - Dataframe em Dicionário"
   ]
  },
  {
   "cell_type": "code",
   "execution_count": 6,
   "id": "aafec41b",
   "metadata": {},
   "outputs": [],
   "source": [
    "def dataframeToDict(originalDf):\n",
    "    newDict = {}\n",
    "    for i in range(0, len(originalDf.index)):\n",
    "        if originalDf.iloc[i]['Peça'] in newDict:\n",
    "            pass\n",
    "        else:\n",
    "            newDict[originalDf.iloc[i]['Peça']] = originalDf.iloc[i]['Local']\n",
    "    \n",
    "    return newDict"
   ]
  },
  {
   "cell_type": "markdown",
   "id": "ae55a6bf",
   "metadata": {},
   "source": [
    "## Função de Comparação entre Dicionários"
   ]
  },
  {
   "cell_type": "code",
   "execution_count": 7,
   "id": "6146927c",
   "metadata": {},
   "outputs": [],
   "source": [
    "def comparaDicionarios(dictA, dictB):\n",
    "    listaDeConfirmações = []\n",
    "    for i in dictA:\n",
    "        if i in dictB:\n",
    "            if dictA[i] == dictB[i]:\n",
    "                listaDeConfirmações.append([i, 2])\n",
    "            else:\n",
    "                listaDeConfirmações.append([i, 0])\n",
    "        else:\n",
    "            listaDeConfirmações.append([i, 1])\n",
    "    \n",
    "    listaDeConfirmações = sorted(listaDeConfirmações, key = lambda x: x[0])\n",
    "    \n",
    "    for i in range(0, len(listaDeConfirmações)):\n",
    "        if listaDeConfirmações[i][1] == 0:\n",
    "            listaDeConfirmações[i].append(\"Peça existe em ambos registros, porém com locais não correspondentes.\")\n",
    "            print(f\"Peça {listaDeConfirmações[i][0]}: Peça existe em ambos registros, porém com locais não correspondentes.\")\n",
    "        elif listaDeConfirmações[i][1] == 1:\n",
    "            listaDeConfirmações[i].append(\"Peça que existem apenas no registro ao qual corresponde a coluna.\")\n",
    "            print(f\"Peça {listaDeConfirmações[i][0]}: Peça que existem apenas no registro ao qual corresponde a coluna.\")\n",
    "        elif listaDeConfirmações[i][1] == 2:\n",
    "            listaDeConfirmações[i].append(\"Peça que existem em ambos registro, e com local igual.\")\n",
    "            print(f\"Peça {listaDeConfirmações[i][0]}: Peça que existem em ambos registro, e com local igual.\")\n",
    "        \n",
    "        del(listaDeConfirmações[i][1])\n",
    "    \n",
    "    return listaDeConfirmações"
   ]
  },
  {
   "cell_type": "markdown",
   "id": "ef798f5a",
   "metadata": {},
   "source": [
    "## Função de Transformação - Lista de Listas em Dataframe"
   ]
  },
  {
   "cell_type": "code",
   "execution_count": 8,
   "id": "38604581",
   "metadata": {},
   "outputs": [],
   "source": [
    "def listOfListsToDataframe(listOfLists):\n",
    "    return pd.DataFrame(listOfLists, columns = ['Peça', 'Resultado'])"
   ]
  },
  {
   "cell_type": "markdown",
   "id": "873147c9",
   "metadata": {},
   "source": [
    "## Função de Transformação - Dataframe em CSV"
   ]
  },
  {
   "cell_type": "code",
   "execution_count": 9,
   "id": "ae47b79f",
   "metadata": {},
   "outputs": [],
   "source": [
    "def dataframeToCSV(df, endereco):\n",
    "    df.to_csv(endereco, index=False, sep = ';')"
   ]
  },
  {
   "cell_type": "markdown",
   "id": "cd128a94",
   "metadata": {},
   "source": [
    "## Execução de Teste"
   ]
  },
  {
   "cell_type": "code",
   "execution_count": 10,
   "id": "c07397e2",
   "metadata": {},
   "outputs": [
    {
     "name": "stdout",
     "output_type": "stream",
     "text": [
      "    Peça Local\n",
      "0      1     a\n",
      "1      2     b\n",
      "2      3     c\n",
      "3      4     d\n",
      "4      5     e\n",
      "5      6     f\n",
      "6      7     g\n",
      "7      8     h\n",
      "8      9     i\n",
      "9     10     j\n",
      "10    15     m\n",
      "11    17     k\n"
     ]
    }
   ],
   "source": [
    "dictVA = dataframeToDict(dfVA)\n",
    "dictColeta = dataframeToDict(dfColeta)"
   ]
  },
  {
   "cell_type": "code",
   "execution_count": 11,
   "id": "2c7bced6",
   "metadata": {},
   "outputs": [
    {
     "name": "stdout",
     "output_type": "stream",
     "text": [
      "Peça 1: Peça existe em ambos registros, porém com locais não correspondentes.\n",
      "Peça 2: Peça que existem em ambos registro, e com local igual.\n",
      "Peça 3: Peça existe em ambos registros, porém com locais não correspondentes.\n",
      "Peça 4: Peça existe em ambos registros, porém com locais não correspondentes.\n",
      "Peça 5: Peça existe em ambos registros, porém com locais não correspondentes.\n",
      "Peça 6: Peça existe em ambos registros, porém com locais não correspondentes.\n",
      "Peça 7: Peça existe em ambos registros, porém com locais não correspondentes.\n",
      "Peça 8: Peça existe em ambos registros, porém com locais não correspondentes.\n",
      "Peça 9: Peça existe em ambos registros, porém com locais não correspondentes.\n",
      "Peça 10: Peça existe em ambos registros, porém com locais não correspondentes.\n",
      "Peça 15: Peça que existem apenas no registro ao qual corresponde a coluna.\n",
      "Peça 17: Peça que existem apenas no registro ao qual corresponde a coluna.\n"
     ]
    }
   ],
   "source": [
    "resultsVA = comparaDicionarios(dictVA, dictColeta)"
   ]
  },
  {
   "cell_type": "code",
   "execution_count": 12,
   "id": "8960e869",
   "metadata": {},
   "outputs": [
    {
     "name": "stdout",
     "output_type": "stream",
     "text": [
      "Peça 1: Peça existe em ambos registros, porém com locais não correspondentes.\n",
      "Peça 2: Peça que existem em ambos registro, e com local igual.\n",
      "Peça 3: Peça existe em ambos registros, porém com locais não correspondentes.\n",
      "Peça 4: Peça existe em ambos registros, porém com locais não correspondentes.\n",
      "Peça 5: Peça existe em ambos registros, porém com locais não correspondentes.\n",
      "Peça 6: Peça existe em ambos registros, porém com locais não correspondentes.\n",
      "Peça 7: Peça existe em ambos registros, porém com locais não correspondentes.\n",
      "Peça 8: Peça existe em ambos registros, porém com locais não correspondentes.\n",
      "Peça 9: Peça existe em ambos registros, porém com locais não correspondentes.\n",
      "Peça 10: Peça existe em ambos registros, porém com locais não correspondentes.\n",
      "Peça 11: Peça que existem apenas no registro ao qual corresponde a coluna.\n",
      "Peça 12: Peça que existem apenas no registro ao qual corresponde a coluna.\n"
     ]
    }
   ],
   "source": [
    "resultsColeta = comparaDicionarios(dictColeta, dictVA)"
   ]
  },
  {
   "cell_type": "code",
   "execution_count": 13,
   "id": "9e3adc58",
   "metadata": {},
   "outputs": [
    {
     "data": {
      "text/html": [
       "<div>\n",
       "<style scoped>\n",
       "    .dataframe tbody tr th:only-of-type {\n",
       "        vertical-align: middle;\n",
       "    }\n",
       "\n",
       "    .dataframe tbody tr th {\n",
       "        vertical-align: top;\n",
       "    }\n",
       "\n",
       "    .dataframe thead th {\n",
       "        text-align: right;\n",
       "    }\n",
       "</style>\n",
       "<table border=\"1\" class=\"dataframe\">\n",
       "  <thead>\n",
       "    <tr style=\"text-align: right;\">\n",
       "      <th></th>\n",
       "      <th>Peça</th>\n",
       "      <th>Resultado</th>\n",
       "    </tr>\n",
       "  </thead>\n",
       "  <tbody>\n",
       "    <tr>\n",
       "      <th>0</th>\n",
       "      <td>1</td>\n",
       "      <td>Peça existe em ambos registros, porém com locais não correspondentes.</td>\n",
       "    </tr>\n",
       "    <tr>\n",
       "      <th>1</th>\n",
       "      <td>2</td>\n",
       "      <td>Peça que existem em ambos registro, e com local igual.</td>\n",
       "    </tr>\n",
       "    <tr>\n",
       "      <th>2</th>\n",
       "      <td>3</td>\n",
       "      <td>Peça existe em ambos registros, porém com locais não correspondentes.</td>\n",
       "    </tr>\n",
       "    <tr>\n",
       "      <th>3</th>\n",
       "      <td>4</td>\n",
       "      <td>Peça existe em ambos registros, porém com locais não correspondentes.</td>\n",
       "    </tr>\n",
       "    <tr>\n",
       "      <th>4</th>\n",
       "      <td>5</td>\n",
       "      <td>Peça existe em ambos registros, porém com locais não correspondentes.</td>\n",
       "    </tr>\n",
       "    <tr>\n",
       "      <th>5</th>\n",
       "      <td>6</td>\n",
       "      <td>Peça existe em ambos registros, porém com locais não correspondentes.</td>\n",
       "    </tr>\n",
       "    <tr>\n",
       "      <th>6</th>\n",
       "      <td>7</td>\n",
       "      <td>Peça existe em ambos registros, porém com locais não correspondentes.</td>\n",
       "    </tr>\n",
       "    <tr>\n",
       "      <th>7</th>\n",
       "      <td>8</td>\n",
       "      <td>Peça existe em ambos registros, porém com locais não correspondentes.</td>\n",
       "    </tr>\n",
       "    <tr>\n",
       "      <th>8</th>\n",
       "      <td>9</td>\n",
       "      <td>Peça existe em ambos registros, porém com locais não correspondentes.</td>\n",
       "    </tr>\n",
       "    <tr>\n",
       "      <th>9</th>\n",
       "      <td>10</td>\n",
       "      <td>Peça existe em ambos registros, porém com locais não correspondentes.</td>\n",
       "    </tr>\n",
       "    <tr>\n",
       "      <th>10</th>\n",
       "      <td>15</td>\n",
       "      <td>Peça que existem apenas no registro ao qual corresponde a coluna.</td>\n",
       "    </tr>\n",
       "    <tr>\n",
       "      <th>11</th>\n",
       "      <td>17</td>\n",
       "      <td>Peça que existem apenas no registro ao qual corresponde a coluna.</td>\n",
       "    </tr>\n",
       "  </tbody>\n",
       "</table>\n",
       "</div>"
      ],
      "text/plain": [
       "    Peça  \\\n",
       "0      1   \n",
       "1      2   \n",
       "2      3   \n",
       "3      4   \n",
       "4      5   \n",
       "5      6   \n",
       "6      7   \n",
       "7      8   \n",
       "8      9   \n",
       "9     10   \n",
       "10    15   \n",
       "11    17   \n",
       "\n",
       "                                                                Resultado  \n",
       "0   Peça existe em ambos registros, porém com locais não correspondentes.  \n",
       "1                  Peça que existem em ambos registro, e com local igual.  \n",
       "2   Peça existe em ambos registros, porém com locais não correspondentes.  \n",
       "3   Peça existe em ambos registros, porém com locais não correspondentes.  \n",
       "4   Peça existe em ambos registros, porém com locais não correspondentes.  \n",
       "5   Peça existe em ambos registros, porém com locais não correspondentes.  \n",
       "6   Peça existe em ambos registros, porém com locais não correspondentes.  \n",
       "7   Peça existe em ambos registros, porém com locais não correspondentes.  \n",
       "8   Peça existe em ambos registros, porém com locais não correspondentes.  \n",
       "9   Peça existe em ambos registros, porém com locais não correspondentes.  \n",
       "10      Peça que existem apenas no registro ao qual corresponde a coluna.  \n",
       "11      Peça que existem apenas no registro ao qual corresponde a coluna.  "
      ]
     },
     "execution_count": 13,
     "metadata": {},
     "output_type": "execute_result"
    }
   ],
   "source": [
    "resultsDFVA = listOfListsToDataframe(resultsVA)\n",
    "resultsDFVA"
   ]
  },
  {
   "cell_type": "code",
   "execution_count": 14,
   "id": "a4e408a9",
   "metadata": {},
   "outputs": [
    {
     "data": {
      "text/html": [
       "<div>\n",
       "<style scoped>\n",
       "    .dataframe tbody tr th:only-of-type {\n",
       "        vertical-align: middle;\n",
       "    }\n",
       "\n",
       "    .dataframe tbody tr th {\n",
       "        vertical-align: top;\n",
       "    }\n",
       "\n",
       "    .dataframe thead th {\n",
       "        text-align: right;\n",
       "    }\n",
       "</style>\n",
       "<table border=\"1\" class=\"dataframe\">\n",
       "  <thead>\n",
       "    <tr style=\"text-align: right;\">\n",
       "      <th></th>\n",
       "      <th>Peça</th>\n",
       "      <th>Resultado</th>\n",
       "    </tr>\n",
       "  </thead>\n",
       "  <tbody>\n",
       "    <tr>\n",
       "      <th>0</th>\n",
       "      <td>1</td>\n",
       "      <td>Peça existe em ambos registros, porém com locais não correspondentes.</td>\n",
       "    </tr>\n",
       "    <tr>\n",
       "      <th>1</th>\n",
       "      <td>2</td>\n",
       "      <td>Peça que existem em ambos registro, e com local igual.</td>\n",
       "    </tr>\n",
       "    <tr>\n",
       "      <th>2</th>\n",
       "      <td>3</td>\n",
       "      <td>Peça existe em ambos registros, porém com locais não correspondentes.</td>\n",
       "    </tr>\n",
       "    <tr>\n",
       "      <th>3</th>\n",
       "      <td>4</td>\n",
       "      <td>Peça existe em ambos registros, porém com locais não correspondentes.</td>\n",
       "    </tr>\n",
       "    <tr>\n",
       "      <th>4</th>\n",
       "      <td>5</td>\n",
       "      <td>Peça existe em ambos registros, porém com locais não correspondentes.</td>\n",
       "    </tr>\n",
       "    <tr>\n",
       "      <th>5</th>\n",
       "      <td>6</td>\n",
       "      <td>Peça existe em ambos registros, porém com locais não correspondentes.</td>\n",
       "    </tr>\n",
       "    <tr>\n",
       "      <th>6</th>\n",
       "      <td>7</td>\n",
       "      <td>Peça existe em ambos registros, porém com locais não correspondentes.</td>\n",
       "    </tr>\n",
       "    <tr>\n",
       "      <th>7</th>\n",
       "      <td>8</td>\n",
       "      <td>Peça existe em ambos registros, porém com locais não correspondentes.</td>\n",
       "    </tr>\n",
       "    <tr>\n",
       "      <th>8</th>\n",
       "      <td>9</td>\n",
       "      <td>Peça existe em ambos registros, porém com locais não correspondentes.</td>\n",
       "    </tr>\n",
       "    <tr>\n",
       "      <th>9</th>\n",
       "      <td>10</td>\n",
       "      <td>Peça existe em ambos registros, porém com locais não correspondentes.</td>\n",
       "    </tr>\n",
       "    <tr>\n",
       "      <th>10</th>\n",
       "      <td>11</td>\n",
       "      <td>Peça que existem apenas no registro ao qual corresponde a coluna.</td>\n",
       "    </tr>\n",
       "    <tr>\n",
       "      <th>11</th>\n",
       "      <td>12</td>\n",
       "      <td>Peça que existem apenas no registro ao qual corresponde a coluna.</td>\n",
       "    </tr>\n",
       "  </tbody>\n",
       "</table>\n",
       "</div>"
      ],
      "text/plain": [
       "    Peça  \\\n",
       "0      1   \n",
       "1      2   \n",
       "2      3   \n",
       "3      4   \n",
       "4      5   \n",
       "5      6   \n",
       "6      7   \n",
       "7      8   \n",
       "8      9   \n",
       "9     10   \n",
       "10    11   \n",
       "11    12   \n",
       "\n",
       "                                                                Resultado  \n",
       "0   Peça existe em ambos registros, porém com locais não correspondentes.  \n",
       "1                  Peça que existem em ambos registro, e com local igual.  \n",
       "2   Peça existe em ambos registros, porém com locais não correspondentes.  \n",
       "3   Peça existe em ambos registros, porém com locais não correspondentes.  \n",
       "4   Peça existe em ambos registros, porém com locais não correspondentes.  \n",
       "5   Peça existe em ambos registros, porém com locais não correspondentes.  \n",
       "6   Peça existe em ambos registros, porém com locais não correspondentes.  \n",
       "7   Peça existe em ambos registros, porém com locais não correspondentes.  \n",
       "8   Peça existe em ambos registros, porém com locais não correspondentes.  \n",
       "9   Peça existe em ambos registros, porém com locais não correspondentes.  \n",
       "10      Peça que existem apenas no registro ao qual corresponde a coluna.  \n",
       "11      Peça que existem apenas no registro ao qual corresponde a coluna.  "
      ]
     },
     "execution_count": 14,
     "metadata": {},
     "output_type": "execute_result"
    }
   ],
   "source": [
    "resultsDFColeta = listOfListsToDataframe(resultsColeta)\n",
    "resultsDFColeta"
   ]
  },
  {
   "cell_type": "code",
   "execution_count": 15,
   "id": "ce4963fb",
   "metadata": {},
   "outputs": [],
   "source": [
    "dataframeToCSV(resultsDFVA, 'outputs/1.csv')\n",
    "dataframeToCSV(resultsDFColeta, 'outputs/2.csv')"
   ]
  }
 ],
 "metadata": {
  "kernelspec": {
   "display_name": "Python 3",
   "language": "python",
   "name": "python3"
  },
  "language_info": {
   "codemirror_mode": {
    "name": "ipython",
    "version": 3
   },
   "file_extension": ".py",
   "mimetype": "text/x-python",
   "name": "python",
   "nbconvert_exporter": "python",
   "pygments_lexer": "ipython3",
   "version": "3.8.8"
  }
 },
 "nbformat": 4,
 "nbformat_minor": 5
}
